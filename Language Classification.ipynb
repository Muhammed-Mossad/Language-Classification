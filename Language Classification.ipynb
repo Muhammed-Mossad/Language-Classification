{
 "cells": [
  {
   "cell_type": "code",
   "execution_count": 1,
   "id": "f47632b4-ec6a-469e-89ad-e7ee2942ee66",
   "metadata": {},
   "outputs": [],
   "source": [
    "import pandas as pd\n",
    "import string\n",
    "from nltk.corpus import stopwords\n",
    "import re\n",
    "import nltk\n",
    "from nltk.corpus import wordnet\n",
    "from nltk.stem import WordNetLemmatizer\n",
    "from nltk.stem import PorterStemmer\n",
    "from sklearn.feature_extraction.text import CountVectorizer\n",
    "import matplotlib.pyplot as plt\n",
    "import seaborn as se\n",
    "import numpy as np"
   ]
  },
  {
   "cell_type": "code",
   "execution_count": 2,
   "id": "04af9b8c-c6b7-4162-9622-722a2acc9481",
   "metadata": {},
   "outputs": [],
   "source": [
    "ds=pd.read_csv(r\"D:\\NLP project\\OurDataset.csv\")"
   ]
  },
  {
   "cell_type": "code",
   "execution_count": 3,
   "id": "ffa6ffa9-76ac-4aee-ace1-ec2b99566666",
   "metadata": {},
   "outputs": [],
   "source": [
    "ds['cleaned']=ds['Text']\n",
    "ds['cleaned'] = ds['cleaned'].str.lower()"
   ]
  },
  {
   "cell_type": "code",
   "execution_count": 4,
   "id": "60dfc678-7839-459d-9139-45db4643ab78",
   "metadata": {},
   "outputs": [],
   "source": [
    "def remove_punc(text):\n",
    "    punc=string.punctuation+'؛،؟'#for arabic punctuation \n",
    "    return text.translate(str.maketrans('','',punc))"
   ]
  },
  {
   "cell_type": "code",
   "execution_count": 5,
   "id": "a99ecded-a8ce-40ee-90cb-597c673cfd25",
   "metadata": {},
   "outputs": [],
   "source": [
    "ds['cleaned']=ds['cleaned'].apply(lambda x:remove_punc(x))"
   ]
  },
  {
   "cell_type": "code",
   "execution_count": 6,
   "id": "cd00fb21-3866-4fd4-b3f7-e2a04689388d",
   "metadata": {},
   "outputs": [
    {
     "name": "stdout",
     "output_type": "stream",
     "text": [
      "{'Hindi', 'Dutch', 'Turkish', 'Spanish', 'German', 'Arabic', 'Russian', 'Tamil', 'Danish', 'Italian', 'English', 'Portugeese', 'Kannada', 'Greek', 'French', 'Sweedish', 'Malayalam'}\n"
     ]
    }
   ],
   "source": [
    "languages =set(ds['Language'])#for get the values of the languages without repeat \n",
    "print(languages)"
   ]
  },
  {
   "cell_type": "code",
   "execution_count": 7,
   "id": "02411e40-f8b8-420f-b45e-762938b16211",
   "metadata": {},
   "outputs": [],
   "source": [
    "def remove_stopwords (text):\n",
    "    stop_word= stopwords.words()\n",
    "    return \" \" .join (word for word in text.split() if not word in stop_word)\n",
    "\n",
    "ds['cleaned']=ds['cleaned'].apply(lambda x:remove_stopwords(x))\n"
   ]
  },
  {
   "cell_type": "code",
   "execution_count": 8,
   "id": "8cffbaf6-8882-485b-a324-311f49b639bb",
   "metadata": {},
   "outputs": [
    {
     "data": {
      "text/html": [
       "<div>\n",
       "<style scoped>\n",
       "    .dataframe tbody tr th:only-of-type {\n",
       "        vertical-align: middle;\n",
       "    }\n",
       "\n",
       "    .dataframe tbody tr th {\n",
       "        vertical-align: top;\n",
       "    }\n",
       "\n",
       "    .dataframe thead th {\n",
       "        text-align: right;\n",
       "    }\n",
       "</style>\n",
       "<table border=\"1\" class=\"dataframe\">\n",
       "  <thead>\n",
       "    <tr style=\"text-align: right;\">\n",
       "      <th></th>\n",
       "      <th>Text</th>\n",
       "      <th>Language</th>\n",
       "      <th>cleaned</th>\n",
       "    </tr>\n",
       "  </thead>\n",
       "  <tbody>\n",
       "    <tr>\n",
       "      <th>0</th>\n",
       "      <td>Nature, in the broadest sense, is the natural...</td>\n",
       "      <td>English</td>\n",
       "      <td>nature broadest natural physical material worl...</td>\n",
       "    </tr>\n",
       "    <tr>\n",
       "      <th>1</th>\n",
       "      <td>\"Nature\" can refer to the phenomena of the phy...</td>\n",
       "      <td>English</td>\n",
       "      <td>nature refer phenomena physical world life gen...</td>\n",
       "    </tr>\n",
       "    <tr>\n",
       "      <th>2</th>\n",
       "      <td>The study of nature is a large, if not the onl...</td>\n",
       "      <td>English</td>\n",
       "      <td>study nature large part science</td>\n",
       "    </tr>\n",
       "    <tr>\n",
       "      <th>3</th>\n",
       "      <td>Although humans are part of nature, human acti...</td>\n",
       "      <td>English</td>\n",
       "      <td>humans part nature human activity understood s...</td>\n",
       "    </tr>\n",
       "    <tr>\n",
       "      <th>4</th>\n",
       "      <td>[1] The word nature is borrowed from the Old F...</td>\n",
       "      <td>English</td>\n",
       "      <td>1 word nature borrowed french nature derived l...</td>\n",
       "    </tr>\n",
       "    <tr>\n",
       "      <th>5</th>\n",
       "      <td>[2] In ancient philosophy, natura is mostly us...</td>\n",
       "      <td>English</td>\n",
       "      <td>2 ancient philosophy natura latin translation ...</td>\n",
       "    </tr>\n",
       "    <tr>\n",
       "      <th>6</th>\n",
       "      <td>[3][4] \\r\\nThe concept of nature as a whole, t...</td>\n",
       "      <td>English</td>\n",
       "      <td>34 concept nature physical universe expansions...</td>\n",
       "    </tr>\n",
       "    <tr>\n",
       "      <th>7</th>\n",
       "      <td>During the advent of modern scientific method ...</td>\n",
       "      <td>English</td>\n",
       "      <td>advent modern scientific method centuries natu...</td>\n",
       "    </tr>\n",
       "    <tr>\n",
       "      <th>8</th>\n",
       "      <td>[5][6] With the Industrial revolution, nature ...</td>\n",
       "      <td>English</td>\n",
       "      <td>56 industrial revolution nature increasingly p...</td>\n",
       "    </tr>\n",
       "    <tr>\n",
       "      <th>9</th>\n",
       "      <td>However, a vitalist vision of nature, closer t...</td>\n",
       "      <td>English</td>\n",
       "      <td>vitalist vision nature closer presocratic rebo...</td>\n",
       "    </tr>\n",
       "  </tbody>\n",
       "</table>\n",
       "</div>"
      ],
      "text/plain": [
       "                                                Text Language  \\\n",
       "0   Nature, in the broadest sense, is the natural...  English   \n",
       "1  \"Nature\" can refer to the phenomena of the phy...  English   \n",
       "2  The study of nature is a large, if not the onl...  English   \n",
       "3  Although humans are part of nature, human acti...  English   \n",
       "4  [1] The word nature is borrowed from the Old F...  English   \n",
       "5  [2] In ancient philosophy, natura is mostly us...  English   \n",
       "6  [3][4] \\r\\nThe concept of nature as a whole, t...  English   \n",
       "7  During the advent of modern scientific method ...  English   \n",
       "8  [5][6] With the Industrial revolution, nature ...  English   \n",
       "9  However, a vitalist vision of nature, closer t...  English   \n",
       "\n",
       "                                             cleaned  \n",
       "0  nature broadest natural physical material worl...  \n",
       "1  nature refer phenomena physical world life gen...  \n",
       "2                    study nature large part science  \n",
       "3  humans part nature human activity understood s...  \n",
       "4  1 word nature borrowed french nature derived l...  \n",
       "5  2 ancient philosophy natura latin translation ...  \n",
       "6  34 concept nature physical universe expansions...  \n",
       "7  advent modern scientific method centuries natu...  \n",
       "8  56 industrial revolution nature increasingly p...  \n",
       "9  vitalist vision nature closer presocratic rebo...  "
      ]
     },
     "execution_count": 8,
     "metadata": {},
     "output_type": "execute_result"
    }
   ],
   "source": [
    "ds.head(10)"
   ]
  },
  {
   "cell_type": "code",
   "execution_count": 9,
   "id": "27dd3dd5-e6ce-4234-8273-12e14bb19b06",
   "metadata": {},
   "outputs": [],
   "source": [
    "def remove_digits(text):\n",
    "    text=re.sub(r'[0-9]',' ',text)\n",
    "    return text\n",
    "ds['cleaned']=ds['cleaned'].apply(lambda x:remove_digits(x))"
   ]
  },
  {
   "cell_type": "code",
   "execution_count": 10,
   "id": "3dcd4d63-2589-4bac-8b5c-43675604cb67",
   "metadata": {},
   "outputs": [
    {
     "data": {
      "text/html": [
       "<div>\n",
       "<style scoped>\n",
       "    .dataframe tbody tr th:only-of-type {\n",
       "        vertical-align: middle;\n",
       "    }\n",
       "\n",
       "    .dataframe tbody tr th {\n",
       "        vertical-align: top;\n",
       "    }\n",
       "\n",
       "    .dataframe thead th {\n",
       "        text-align: right;\n",
       "    }\n",
       "</style>\n",
       "<table border=\"1\" class=\"dataframe\">\n",
       "  <thead>\n",
       "    <tr style=\"text-align: right;\">\n",
       "      <th></th>\n",
       "      <th>Text</th>\n",
       "      <th>Language</th>\n",
       "      <th>cleaned</th>\n",
       "    </tr>\n",
       "  </thead>\n",
       "  <tbody>\n",
       "    <tr>\n",
       "      <th>0</th>\n",
       "      <td>Nature, in the broadest sense, is the natural...</td>\n",
       "      <td>English</td>\n",
       "      <td>nature broadest natural physical material worl...</td>\n",
       "    </tr>\n",
       "    <tr>\n",
       "      <th>1</th>\n",
       "      <td>\"Nature\" can refer to the phenomena of the phy...</td>\n",
       "      <td>English</td>\n",
       "      <td>nature refer phenomena physical world life gen...</td>\n",
       "    </tr>\n",
       "    <tr>\n",
       "      <th>2</th>\n",
       "      <td>The study of nature is a large, if not the onl...</td>\n",
       "      <td>English</td>\n",
       "      <td>study nature large part science</td>\n",
       "    </tr>\n",
       "    <tr>\n",
       "      <th>3</th>\n",
       "      <td>Although humans are part of nature, human acti...</td>\n",
       "      <td>English</td>\n",
       "      <td>humans part nature human activity understood s...</td>\n",
       "    </tr>\n",
       "    <tr>\n",
       "      <th>4</th>\n",
       "      <td>[1] The word nature is borrowed from the Old F...</td>\n",
       "      <td>English</td>\n",
       "      <td>word nature borrowed french nature derived l...</td>\n",
       "    </tr>\n",
       "    <tr>\n",
       "      <th>5</th>\n",
       "      <td>[2] In ancient philosophy, natura is mostly us...</td>\n",
       "      <td>English</td>\n",
       "      <td>ancient philosophy natura latin translation ...</td>\n",
       "    </tr>\n",
       "    <tr>\n",
       "      <th>6</th>\n",
       "      <td>[3][4] \\r\\nThe concept of nature as a whole, t...</td>\n",
       "      <td>English</td>\n",
       "      <td>concept nature physical universe expansions...</td>\n",
       "    </tr>\n",
       "    <tr>\n",
       "      <th>7</th>\n",
       "      <td>During the advent of modern scientific method ...</td>\n",
       "      <td>English</td>\n",
       "      <td>advent modern scientific method centuries natu...</td>\n",
       "    </tr>\n",
       "    <tr>\n",
       "      <th>8</th>\n",
       "      <td>[5][6] With the Industrial revolution, nature ...</td>\n",
       "      <td>English</td>\n",
       "      <td>industrial revolution nature increasingly p...</td>\n",
       "    </tr>\n",
       "    <tr>\n",
       "      <th>9</th>\n",
       "      <td>However, a vitalist vision of nature, closer t...</td>\n",
       "      <td>English</td>\n",
       "      <td>vitalist vision nature closer presocratic rebo...</td>\n",
       "    </tr>\n",
       "  </tbody>\n",
       "</table>\n",
       "</div>"
      ],
      "text/plain": [
       "                                                Text Language  \\\n",
       "0   Nature, in the broadest sense, is the natural...  English   \n",
       "1  \"Nature\" can refer to the phenomena of the phy...  English   \n",
       "2  The study of nature is a large, if not the onl...  English   \n",
       "3  Although humans are part of nature, human acti...  English   \n",
       "4  [1] The word nature is borrowed from the Old F...  English   \n",
       "5  [2] In ancient philosophy, natura is mostly us...  English   \n",
       "6  [3][4] \\r\\nThe concept of nature as a whole, t...  English   \n",
       "7  During the advent of modern scientific method ...  English   \n",
       "8  [5][6] With the Industrial revolution, nature ...  English   \n",
       "9  However, a vitalist vision of nature, closer t...  English   \n",
       "\n",
       "                                             cleaned  \n",
       "0  nature broadest natural physical material worl...  \n",
       "1  nature refer phenomena physical world life gen...  \n",
       "2                    study nature large part science  \n",
       "3  humans part nature human activity understood s...  \n",
       "4    word nature borrowed french nature derived l...  \n",
       "5    ancient philosophy natura latin translation ...  \n",
       "6     concept nature physical universe expansions...  \n",
       "7  advent modern scientific method centuries natu...  \n",
       "8     industrial revolution nature increasingly p...  \n",
       "9  vitalist vision nature closer presocratic rebo...  "
      ]
     },
     "execution_count": 10,
     "metadata": {},
     "output_type": "execute_result"
    }
   ],
   "source": [
    "ds.head(10)"
   ]
  },
  {
   "cell_type": "code",
   "execution_count": 11,
   "id": "093a4c37-fac6-4212-81f0-5bc815e85c84",
   "metadata": {},
   "outputs": [],
   "source": [
    "lemm=WordNetLemmatizer()\n",
    "def lemmiti(text):\n",
    "    txt = text.split()\n",
    "   \n",
    "    return \" \".join([lemm.lemmatize (x,pos='v')for x in txt])\n",
    "ds['cleaned'] = ds['cleaned'].apply(lambda x: lemmiti(x))"
   ]
  },
  {
   "cell_type": "code",
   "execution_count": 12,
   "id": "0e31c7af-b841-4fe5-8e9b-4ea291932b2b",
   "metadata": {},
   "outputs": [
    {
     "data": {
      "text/html": [
       "<div>\n",
       "<style scoped>\n",
       "    .dataframe tbody tr th:only-of-type {\n",
       "        vertical-align: middle;\n",
       "    }\n",
       "\n",
       "    .dataframe tbody tr th {\n",
       "        vertical-align: top;\n",
       "    }\n",
       "\n",
       "    .dataframe thead th {\n",
       "        text-align: right;\n",
       "    }\n",
       "</style>\n",
       "<table border=\"1\" class=\"dataframe\">\n",
       "  <thead>\n",
       "    <tr style=\"text-align: right;\">\n",
       "      <th></th>\n",
       "      <th>Text</th>\n",
       "      <th>Language</th>\n",
       "      <th>cleaned</th>\n",
       "    </tr>\n",
       "  </thead>\n",
       "  <tbody>\n",
       "    <tr>\n",
       "      <th>0</th>\n",
       "      <td>Nature, in the broadest sense, is the natural...</td>\n",
       "      <td>English</td>\n",
       "      <td>nature broadest natural physical material worl...</td>\n",
       "    </tr>\n",
       "    <tr>\n",
       "      <th>1</th>\n",
       "      <td>\"Nature\" can refer to the phenomena of the phy...</td>\n",
       "      <td>English</td>\n",
       "      <td>nature refer phenomena physical world life gen...</td>\n",
       "    </tr>\n",
       "    <tr>\n",
       "      <th>2</th>\n",
       "      <td>The study of nature is a large, if not the onl...</td>\n",
       "      <td>English</td>\n",
       "      <td>study nature large part science</td>\n",
       "    </tr>\n",
       "    <tr>\n",
       "      <th>3</th>\n",
       "      <td>Although humans are part of nature, human acti...</td>\n",
       "      <td>English</td>\n",
       "      <td>humans part nature human activity understand s...</td>\n",
       "    </tr>\n",
       "    <tr>\n",
       "      <th>4</th>\n",
       "      <td>[1] The word nature is borrowed from the Old F...</td>\n",
       "      <td>English</td>\n",
       "      <td>word nature borrow french nature derive latin ...</td>\n",
       "    </tr>\n",
       "    <tr>\n",
       "      <th>...</th>\n",
       "      <td>...</td>\n",
       "      <td>...</td>\n",
       "      <td>...</td>\n",
       "    </tr>\n",
       "    <tr>\n",
       "      <th>9492</th>\n",
       "      <td>لقد كان وسيمًا ولم يهتم بي على الإطلاق ولكن عز...</td>\n",
       "      <td>Arabic</td>\n",
       "      <td>لقد وسيمًا ولم يهتم الإطلاق عزيزي تدرك الطريقة...</td>\n",
       "    </tr>\n",
       "    <tr>\n",
       "      <th>9493</th>\n",
       "      <td>ما هو خطأك ، فلنطعمك شيئًا لطيفًا من ذلك اليوم...</td>\n",
       "      <td>Arabic</td>\n",
       "      <td>خطأك فلنطعمك شيئًا لطيفًا اليوم فصاعدًا</td>\n",
       "    </tr>\n",
       "    <tr>\n",
       "      <th>9494</th>\n",
       "      <td>غيرت narcisa طرقها التي كافحت في البداية ولكن ...</td>\n",
       "      <td>Arabic</td>\n",
       "      <td>غيرت narcisa طرقها كافحت البداية ببطء وصبر بدأ...</td>\n",
       "    </tr>\n",
       "    <tr>\n",
       "      <th>9495</th>\n",
       "      <td>كيف' أخبرتهم النرجسية الآن ماريان بكل ما حدث و...</td>\n",
       "      <td>Arabic</td>\n",
       "      <td>أخبرتهم النرجسية ماريان بكل حدث وتغيرت كثيرًا ...</td>\n",
       "    </tr>\n",
       "    <tr>\n",
       "      <th>9496</th>\n",
       "      <td>هل أعتقد أنها لن تريد المزيد من الخبز الذهبي ا...</td>\n",
       "      <td>Arabic</td>\n",
       "      <td>أعتقد أنها تريد المزيد الخبز الذهبي هاه تعلمون</td>\n",
       "    </tr>\n",
       "  </tbody>\n",
       "</table>\n",
       "<p>9497 rows × 3 columns</p>\n",
       "</div>"
      ],
      "text/plain": [
       "                                                   Text Language  \\\n",
       "0      Nature, in the broadest sense, is the natural...  English   \n",
       "1     \"Nature\" can refer to the phenomena of the phy...  English   \n",
       "2     The study of nature is a large, if not the onl...  English   \n",
       "3     Although humans are part of nature, human acti...  English   \n",
       "4     [1] The word nature is borrowed from the Old F...  English   \n",
       "...                                                 ...      ...   \n",
       "9492  لقد كان وسيمًا ولم يهتم بي على الإطلاق ولكن عز...   Arabic   \n",
       "9493  ما هو خطأك ، فلنطعمك شيئًا لطيفًا من ذلك اليوم...   Arabic   \n",
       "9494  غيرت narcisa طرقها التي كافحت في البداية ولكن ...   Arabic   \n",
       "9495  كيف' أخبرتهم النرجسية الآن ماريان بكل ما حدث و...   Arabic   \n",
       "9496  هل أعتقد أنها لن تريد المزيد من الخبز الذهبي ا...   Arabic   \n",
       "\n",
       "                                                cleaned  \n",
       "0     nature broadest natural physical material worl...  \n",
       "1     nature refer phenomena physical world life gen...  \n",
       "2                       study nature large part science  \n",
       "3     humans part nature human activity understand s...  \n",
       "4     word nature borrow french nature derive latin ...  \n",
       "...                                                 ...  \n",
       "9492  لقد وسيمًا ولم يهتم الإطلاق عزيزي تدرك الطريقة...  \n",
       "9493            خطأك فلنطعمك شيئًا لطيفًا اليوم فصاعدًا  \n",
       "9494  غيرت narcisa طرقها كافحت البداية ببطء وصبر بدأ...  \n",
       "9495  أخبرتهم النرجسية ماريان بكل حدث وتغيرت كثيرًا ...  \n",
       "9496     أعتقد أنها تريد المزيد الخبز الذهبي هاه تعلمون  \n",
       "\n",
       "[9497 rows x 3 columns]"
      ]
     },
     "execution_count": 12,
     "metadata": {},
     "output_type": "execute_result"
    }
   ],
   "source": [
    "ds.head(9497)"
   ]
  },
  {
   "cell_type": "code",
   "execution_count": 13,
   "id": "9cb96c9a-f5f1-435e-b902-3348a3186cb4",
   "metadata": {},
   "outputs": [],
   "source": [
    "st=PorterStemmer()\n",
    "def stemming(text):\n",
    "    txt = text.split()\n",
    "\n",
    "    return \" \".join([st.stem (x)for x in txt])\n",
    "ds['cleaned'] = ds['cleaned'].apply(lambda x: stemming(x))\n"
   ]
  },
  {
   "cell_type": "code",
   "execution_count": 14,
   "id": "8cd6bb08-2c43-407c-b2e6-5286de06d9aa",
   "metadata": {
    "scrolled": true
   },
   "outputs": [
    {
     "data": {
      "text/html": [
       "<div>\n",
       "<style scoped>\n",
       "    .dataframe tbody tr th:only-of-type {\n",
       "        vertical-align: middle;\n",
       "    }\n",
       "\n",
       "    .dataframe tbody tr th {\n",
       "        vertical-align: top;\n",
       "    }\n",
       "\n",
       "    .dataframe thead th {\n",
       "        text-align: right;\n",
       "    }\n",
       "</style>\n",
       "<table border=\"1\" class=\"dataframe\">\n",
       "  <thead>\n",
       "    <tr style=\"text-align: right;\">\n",
       "      <th></th>\n",
       "      <th>Text</th>\n",
       "      <th>Language</th>\n",
       "      <th>cleaned</th>\n",
       "    </tr>\n",
       "  </thead>\n",
       "  <tbody>\n",
       "    <tr>\n",
       "      <th>0</th>\n",
       "      <td>Nature, in the broadest sense, is the natural...</td>\n",
       "      <td>English</td>\n",
       "      <td>natur broadest natur physic materi world univers</td>\n",
       "    </tr>\n",
       "    <tr>\n",
       "      <th>1</th>\n",
       "      <td>\"Nature\" can refer to the phenomena of the phy...</td>\n",
       "      <td>English</td>\n",
       "      <td>natur refer phenomena physic world life gener</td>\n",
       "    </tr>\n",
       "    <tr>\n",
       "      <th>2</th>\n",
       "      <td>The study of nature is a large, if not the onl...</td>\n",
       "      <td>English</td>\n",
       "      <td>studi natur larg part scienc</td>\n",
       "    </tr>\n",
       "    <tr>\n",
       "      <th>3</th>\n",
       "      <td>Although humans are part of nature, human acti...</td>\n",
       "      <td>English</td>\n",
       "      <td>human part natur human activ understand separ ...</td>\n",
       "    </tr>\n",
       "    <tr>\n",
       "      <th>4</th>\n",
       "      <td>[1] The word nature is borrowed from the Old F...</td>\n",
       "      <td>English</td>\n",
       "      <td>word natur borrow french natur deriv latin wor...</td>\n",
       "    </tr>\n",
       "    <tr>\n",
       "      <th>...</th>\n",
       "      <td>...</td>\n",
       "      <td>...</td>\n",
       "      <td>...</td>\n",
       "    </tr>\n",
       "    <tr>\n",
       "      <th>9495</th>\n",
       "      <td>كيف' أخبرتهم النرجسية الآن ماريان بكل ما حدث و...</td>\n",
       "      <td>Arabic</td>\n",
       "      <td>أخبرتهم النرجسية ماريان بكل حدث وتغيرت كثيرًا ...</td>\n",
       "    </tr>\n",
       "    <tr>\n",
       "      <th>9496</th>\n",
       "      <td>هل أعتقد أنها لن تريد المزيد من الخبز الذهبي ا...</td>\n",
       "      <td>Arabic</td>\n",
       "      <td>أعتقد أنها تريد المزيد الخبز الذهبي هاه تعلمون</td>\n",
       "    </tr>\n",
       "    <tr>\n",
       "      <th>9497</th>\n",
       "      <td>تيري تبدو في الواقع مثل هذا الملاك قليلاً على ...</td>\n",
       "      <td>Arabic</td>\n",
       "      <td>تيري تبدو الواقع الملاك قليلاً الرغم أراه يمكن...</td>\n",
       "    </tr>\n",
       "    <tr>\n",
       "      <th>9498</th>\n",
       "      <td>.Wir sind alle auf der Suche nach schnellen We...</td>\n",
       "      <td>German</td>\n",
       "      <td>such schnellen wegen fließend englisch sprechen</td>\n",
       "    </tr>\n",
       "    <tr>\n",
       "      <th>9499</th>\n",
       "      <td>Ich weiß, ich verstehe, was passiert, ist, das...</td>\n",
       "      <td>German</td>\n",
       "      <td>weiß versteh passiert paar wort gehirn umkreis...</td>\n",
       "    </tr>\n",
       "  </tbody>\n",
       "</table>\n",
       "<p>9500 rows × 3 columns</p>\n",
       "</div>"
      ],
      "text/plain": [
       "                                                   Text Language  \\\n",
       "0      Nature, in the broadest sense, is the natural...  English   \n",
       "1     \"Nature\" can refer to the phenomena of the phy...  English   \n",
       "2     The study of nature is a large, if not the onl...  English   \n",
       "3     Although humans are part of nature, human acti...  English   \n",
       "4     [1] The word nature is borrowed from the Old F...  English   \n",
       "...                                                 ...      ...   \n",
       "9495  كيف' أخبرتهم النرجسية الآن ماريان بكل ما حدث و...   Arabic   \n",
       "9496  هل أعتقد أنها لن تريد المزيد من الخبز الذهبي ا...   Arabic   \n",
       "9497  تيري تبدو في الواقع مثل هذا الملاك قليلاً على ...   Arabic   \n",
       "9498  .Wir sind alle auf der Suche nach schnellen We...   German   \n",
       "9499  Ich weiß, ich verstehe, was passiert, ist, das...   German   \n",
       "\n",
       "                                                cleaned  \n",
       "0      natur broadest natur physic materi world univers  \n",
       "1         natur refer phenomena physic world life gener  \n",
       "2                          studi natur larg part scienc  \n",
       "3     human part natur human activ understand separ ...  \n",
       "4     word natur borrow french natur deriv latin wor...  \n",
       "...                                                 ...  \n",
       "9495  أخبرتهم النرجسية ماريان بكل حدث وتغيرت كثيرًا ...  \n",
       "9496     أعتقد أنها تريد المزيد الخبز الذهبي هاه تعلمون  \n",
       "9497  تيري تبدو الواقع الملاك قليلاً الرغم أراه يمكن...  \n",
       "9498    such schnellen wegen fließend englisch sprechen  \n",
       "9499  weiß versteh passiert paar wort gehirn umkreis...  \n",
       "\n",
       "[9500 rows x 3 columns]"
      ]
     },
     "execution_count": 14,
     "metadata": {},
     "output_type": "execute_result"
    }
   ],
   "source": [
    "ds.head(9500)"
   ]
  },
  {
   "cell_type": "code",
   "execution_count": 15,
   "id": "d7a94b83-f18c-4add-9834-bed8e320beb6",
   "metadata": {},
   "outputs": [],
   "source": [
    "reg_tag=re.compile(r'<[^>]+>')\n",
    "def remove_tags(text):\n",
    "    text=re.sub(reg_tag,'',text)\n",
    "    return text\n",
    "ds['cleaned'] = ds['cleaned'].apply(lambda x: remove_tags(x))"
   ]
  },
  {
   "cell_type": "code",
   "execution_count": 16,
   "id": "0b7b27a8-2931-4037-879c-9de62dfbb7f9",
   "metadata": {},
   "outputs": [],
   "source": [
    "def remove_special_cahr (text):\n",
    "    text =re.sub('£$%^&*',' ',text)\n",
    "    #text=re.sub('\\s+',' ',text)\n",
    "    return text\n",
    "ds['cleaned']=ds['cleaned'].apply(lambda x:remove_special_cahr(x))"
   ]
  },
  {
   "cell_type": "code",
   "execution_count": null,
   "id": "37e89b74",
   "metadata": {},
   "outputs": [],
   "source": []
  },
  {
   "cell_type": "code",
   "execution_count": null,
   "id": "014e27d5-2b96-4640-bd4a-0a3a7733aaeb",
   "metadata": {},
   "outputs": [],
   "source": []
  },
  {
   "cell_type": "code",
   "execution_count": 17,
   "id": "ba2124cb",
   "metadata": {},
   "outputs": [
    {
     "data": {
      "text/html": [
       "<div>\n",
       "<style scoped>\n",
       "    .dataframe tbody tr th:only-of-type {\n",
       "        vertical-align: middle;\n",
       "    }\n",
       "\n",
       "    .dataframe tbody tr th {\n",
       "        vertical-align: top;\n",
       "    }\n",
       "\n",
       "    .dataframe thead th {\n",
       "        text-align: right;\n",
       "    }\n",
       "</style>\n",
       "<table border=\"1\" class=\"dataframe\">\n",
       "  <thead>\n",
       "    <tr style=\"text-align: right;\">\n",
       "      <th></th>\n",
       "      <th>Text</th>\n",
       "      <th>Language</th>\n",
       "      <th>cleaned</th>\n",
       "    </tr>\n",
       "  </thead>\n",
       "  <tbody>\n",
       "    <tr>\n",
       "      <th>0</th>\n",
       "      <td>Nature, in the broadest sense, is the natural...</td>\n",
       "      <td>English</td>\n",
       "      <td>natur broadest natur physic materi world univers</td>\n",
       "    </tr>\n",
       "    <tr>\n",
       "      <th>1</th>\n",
       "      <td>\"Nature\" can refer to the phenomena of the phy...</td>\n",
       "      <td>English</td>\n",
       "      <td>natur refer phenomena physic world life gener</td>\n",
       "    </tr>\n",
       "    <tr>\n",
       "      <th>2</th>\n",
       "      <td>The study of nature is a large, if not the onl...</td>\n",
       "      <td>English</td>\n",
       "      <td>studi natur larg part scienc</td>\n",
       "    </tr>\n",
       "    <tr>\n",
       "      <th>3</th>\n",
       "      <td>Although humans are part of nature, human acti...</td>\n",
       "      <td>English</td>\n",
       "      <td>human part natur human activ understand separ ...</td>\n",
       "    </tr>\n",
       "    <tr>\n",
       "      <th>4</th>\n",
       "      <td>[1] The word nature is borrowed from the Old F...</td>\n",
       "      <td>English</td>\n",
       "      <td>word natur borrow french natur deriv latin wor...</td>\n",
       "    </tr>\n",
       "    <tr>\n",
       "      <th>...</th>\n",
       "      <td>...</td>\n",
       "      <td>...</td>\n",
       "      <td>...</td>\n",
       "    </tr>\n",
       "    <tr>\n",
       "      <th>10332</th>\n",
       "      <td>ನಿಮ್ಮ ತಪ್ಪು ಏನು ಬಂದಿದೆಯೆಂದರೆ ಆ ದಿನದಿಂದ ನಿಮಗೆ ಒ...</td>\n",
       "      <td>Kannada</td>\n",
       "      <td>ನಿಮ್ಮ ತಪ್ಪು ಏನು ಬಂದಿದೆಯೆಂದರೆ ಆ ದಿನದಿಂದ ನಿಮಗೆ ಒ...</td>\n",
       "    </tr>\n",
       "    <tr>\n",
       "      <th>10333</th>\n",
       "      <td>ನಾರ್ಸಿಸಾ ತಾನು ಮೊದಲಿಗೆ ಹೆಣಗಾಡುತ್ತಿದ್ದ ಮಾರ್ಗಗಳನ್...</td>\n",
       "      <td>Kannada</td>\n",
       "      <td>ನಾರ್ಸಿಸಾ ತಾನು ಮೊದಲಿಗೆ ಹೆಣಗಾಡುತ್ತಿದ್ದ ಮಾರ್ಗಗಳನ್...</td>\n",
       "    </tr>\n",
       "    <tr>\n",
       "      <th>10334</th>\n",
       "      <td>ಹೇಗೆ ' ನಾರ್ಸಿಸಿಸಮ್ ಈಗ ಮರಿಯನ್ ಅವರಿಗೆ ಸಂಭವಿಸಿದ ಎ...</td>\n",
       "      <td>Kannada</td>\n",
       "      <td>ಹೇಗೆ ನಾರ್ಸಿಸಿಸಮ್ ಈಗ ಮರಿಯನ್ ಅವರಿಗೆ ಸಂಭವಿಸಿದ ಎಲ್...</td>\n",
       "    </tr>\n",
       "    <tr>\n",
       "      <th>10335</th>\n",
       "      <td>ಅವಳು ಈಗ ಹೆಚ್ಚು ಚಿನ್ನದ ಬ್ರೆಡ್ ಬಯಸುವುದಿಲ್ಲ ಎಂದು ...</td>\n",
       "      <td>Kannada</td>\n",
       "      <td>ಅವಳು ಈಗ ಹೆಚ್ಚು ಚಿನ್ನದ ಬ್ರೆಡ್ ಬಯಸುವುದಿಲ್ಲ ಎಂದು ...</td>\n",
       "    </tr>\n",
       "    <tr>\n",
       "      <th>10336</th>\n",
       "      <td>ಟೆರ್ರಿ ನೀವು ನಿಜವಾಗಿಯೂ ಆ ದೇವದೂತನಂತೆ ಸ್ವಲ್ಪ ಕಾಣು...</td>\n",
       "      <td>Kannada</td>\n",
       "      <td>ಟೆರ್ರಿ ನೀವು ನಿಜವಾಗಿಯೂ ಆ ದೇವದೂತನಂತೆ ಸ್ವಲ್ಪ ಕಾಣು...</td>\n",
       "    </tr>\n",
       "  </tbody>\n",
       "</table>\n",
       "<p>10337 rows × 3 columns</p>\n",
       "</div>"
      ],
      "text/plain": [
       "                                                    Text Language  \\\n",
       "0       Nature, in the broadest sense, is the natural...  English   \n",
       "1      \"Nature\" can refer to the phenomena of the phy...  English   \n",
       "2      The study of nature is a large, if not the onl...  English   \n",
       "3      Although humans are part of nature, human acti...  English   \n",
       "4      [1] The word nature is borrowed from the Old F...  English   \n",
       "...                                                  ...      ...   \n",
       "10332  ನಿಮ್ಮ ತಪ್ಪು ಏನು ಬಂದಿದೆಯೆಂದರೆ ಆ ದಿನದಿಂದ ನಿಮಗೆ ಒ...  Kannada   \n",
       "10333  ನಾರ್ಸಿಸಾ ತಾನು ಮೊದಲಿಗೆ ಹೆಣಗಾಡುತ್ತಿದ್ದ ಮಾರ್ಗಗಳನ್...  Kannada   \n",
       "10334  ಹೇಗೆ ' ನಾರ್ಸಿಸಿಸಮ್ ಈಗ ಮರಿಯನ್ ಅವರಿಗೆ ಸಂಭವಿಸಿದ ಎ...  Kannada   \n",
       "10335  ಅವಳು ಈಗ ಹೆಚ್ಚು ಚಿನ್ನದ ಬ್ರೆಡ್ ಬಯಸುವುದಿಲ್ಲ ಎಂದು ...  Kannada   \n",
       "10336  ಟೆರ್ರಿ ನೀವು ನಿಜವಾಗಿಯೂ ಆ ದೇವದೂತನಂತೆ ಸ್ವಲ್ಪ ಕಾಣು...  Kannada   \n",
       "\n",
       "                                                 cleaned  \n",
       "0       natur broadest natur physic materi world univers  \n",
       "1          natur refer phenomena physic world life gener  \n",
       "2                           studi natur larg part scienc  \n",
       "3      human part natur human activ understand separ ...  \n",
       "4      word natur borrow french natur deriv latin wor...  \n",
       "...                                                  ...  \n",
       "10332  ನಿಮ್ಮ ತಪ್ಪು ಏನು ಬಂದಿದೆಯೆಂದರೆ ಆ ದಿನದಿಂದ ನಿಮಗೆ ಒ...  \n",
       "10333  ನಾರ್ಸಿಸಾ ತಾನು ಮೊದಲಿಗೆ ಹೆಣಗಾಡುತ್ತಿದ್ದ ಮಾರ್ಗಗಳನ್...  \n",
       "10334  ಹೇಗೆ ನಾರ್ಸಿಸಿಸಮ್ ಈಗ ಮರಿಯನ್ ಅವರಿಗೆ ಸಂಭವಿಸಿದ ಎಲ್...  \n",
       "10335  ಅವಳು ಈಗ ಹೆಚ್ಚು ಚಿನ್ನದ ಬ್ರೆಡ್ ಬಯಸುವುದಿಲ್ಲ ಎಂದು ...  \n",
       "10336  ಟೆರ್ರಿ ನೀವು ನಿಜವಾಗಿಯೂ ಆ ದೇವದೂತನಂತೆ ಸ್ವಲ್ಪ ಕಾಣು...  \n",
       "\n",
       "[10337 rows x 3 columns]"
      ]
     },
     "execution_count": 17,
     "metadata": {},
     "output_type": "execute_result"
    }
   ],
   "source": [
    "ds"
   ]
  },
  {
   "cell_type": "code",
   "execution_count": 18,
   "id": "c192de04-8326-4c9c-97f3-452534dde131",
   "metadata": {},
   "outputs": [
    {
     "data": {
      "text/plain": [
       "'ما هو خطأك ، فلنطعمك شيئًا لطيفًا من ذلك اليوم فصاعدًا.'"
      ]
     },
     "execution_count": 18,
     "metadata": {},
     "output_type": "execute_result"
    }
   ],
   "source": [
    "ds['Text'][9493]"
   ]
  },
  {
   "cell_type": "code",
   "execution_count": 19,
   "id": "3646b44b-657c-4a74-8eea-a19d57d91abe",
   "metadata": {},
   "outputs": [
    {
     "data": {
      "text/plain": [
       "'خطأك فلنطعمك شيئًا لطيفًا اليوم فصاعدًا'"
      ]
     },
     "execution_count": 19,
     "metadata": {},
     "output_type": "execute_result"
    }
   ],
   "source": [
    "ds['cleaned'][9493]"
   ]
  },
  {
   "cell_type": "code",
   "execution_count": 20,
   "id": "bb0eb2ca-1d86-4b33-8efd-b126e27f2f21",
   "metadata": {},
   "outputs": [
    {
     "data": {
      "text/plain": [
       "Language\n",
       "English       1385\n",
       "French        1014\n",
       "Spanish        819\n",
       "Portugeese     739\n",
       "Italian        698\n",
       "Russian        692\n",
       "Sweedish       676\n",
       "Malayalam      594\n",
       "Dutch          546\n",
       "Arabic         536\n",
       "Turkish        474\n",
       "German         470\n",
       "Tamil          469\n",
       "Danish         428\n",
       "Kannada        369\n",
       "Greek          365\n",
       "Hindi           63\n",
       "Name: count, dtype: int64"
      ]
     },
     "execution_count": 20,
     "metadata": {},
     "output_type": "execute_result"
    }
   ],
   "source": [
    "ds['Language'].value_counts()"
   ]
  },
  {
   "cell_type": "code",
   "execution_count": 21,
   "id": "e2c80749-0420-47b3-a11b-ef4011101267",
   "metadata": {},
   "outputs": [],
   "source": [
    "x=ds[\"cleaned\"]\n",
    "y=ds[\"Language\"]"
   ]
  },
  {
   "cell_type": "code",
   "execution_count": 22,
   "id": "7bc09966-dc90-4394-805a-496c73e2c500",
   "metadata": {},
   "outputs": [
    {
     "data": {
      "text/plain": [
       "(10337, 34647)"
      ]
     },
     "execution_count": 22,
     "metadata": {},
     "output_type": "execute_result"
    }
   ],
   "source": [
    "cv = CountVectorizer()                        # Creating an instance of CountVectorizer\n",
    "z = cv.fit_transform(x)               # Transforming the preprocessed text into a bag of words model\n",
    "z.shape                                      # Displaying the shape of the transformed data"
   ]
  },
  {
   "cell_type": "code",
   "execution_count": 23,
   "id": "f427d551-7edd-4092-9216-db484d85e190",
   "metadata": {},
   "outputs": [],
   "source": [
    "from sklearn.preprocessing import LabelEncoder\n",
    "label= LabelEncoder()\n",
    "y= label.fit_transform(ds[\"Language\"])"
   ]
  },
  {
   "cell_type": "code",
   "execution_count": 24,
   "id": "d74e8122-7288-4583-91eb-1979035c2fe3",
   "metadata": {},
   "outputs": [
    {
     "data": {
      "text/plain": [
       "array([3, 3, 3, ..., 9, 9, 9])"
      ]
     },
     "execution_count": 24,
     "metadata": {},
     "output_type": "execute_result"
    }
   ],
   "source": [
    "y"
   ]
  },
  {
   "cell_type": "markdown",
   "id": "82d4ff43",
   "metadata": {},
   "source": [
    "## split data into training,testing"
   ]
  },
  {
   "cell_type": "code",
   "execution_count": 25,
   "id": "37ad2656",
   "metadata": {},
   "outputs": [],
   "source": [
    "from sklearn.model_selection import train_test_split\n",
    "X_train, X_test, y_train, y_test = train_test_split(z, y, test_size=0.2,random_state=5)\n"
   ]
  },
  {
   "cell_type": "markdown",
   "id": "2f5b0540",
   "metadata": {},
   "source": [
    "## scaling"
   ]
  },
  {
   "cell_type": "code",
   "execution_count": 26,
   "id": "733c1798",
   "metadata": {},
   "outputs": [],
   "source": [
    "from sklearn.preprocessing import StandardScaler #[-1,1]\n",
    "sc=StandardScaler(with_mean=False)\n",
    "x_train=sc.fit_transform(X_train)\n",
    "x_test=sc.fit_transform(X_test)\n"
   ]
  },
  {
   "cell_type": "markdown",
   "id": "208d8cdc",
   "metadata": {},
   "source": [
    "## naive bayes"
   ]
  },
  {
   "cell_type": "code",
   "execution_count": 27,
   "id": "a98be5d8",
   "metadata": {},
   "outputs": [
    {
     "data": {
      "text/plain": [
       "array([11, 11,  4, ..., 13,  2, 14])"
      ]
     },
     "execution_count": 27,
     "metadata": {},
     "output_type": "execute_result"
    }
   ],
   "source": [
    "from sklearn.naive_bayes import ComplementNB\n",
    "\n",
    "x_train_array = x_train.toarray()\n",
    "x_test_array = x_test.toarray()\n",
    "\n",
    "classifier=ComplementNB()\n",
    "classifier.fit(x_train_array,y_train)\n",
    "y_pred=classifier.predict(x_test_array)\n",
    "y_pred\n",
    "\n",
    "\n",
    "\n",
    "\n"
   ]
  },
  {
   "cell_type": "code",
   "execution_count": 28,
   "id": "8c339849",
   "metadata": {
    "scrolled": true
   },
   "outputs": [
    {
     "name": "stdout",
     "output_type": "stream",
     "text": [
      "accuarcy is :  0.9356866537717602\n",
      "[[ 96   0   0   0   0   0   0   9   0   0   0   0   0   0   0   0   0]\n",
      " [  2  74   0   1   0   1   0   8   0   0   0   1   0   0   2   0   0]\n",
      " [  0   0 112   2   0   1   0   4   1   0   0   0   0   0   0   0   0]\n",
      " [  9   2   0 264   0   0   0   1   0   0   0   2   0   3   1   0   0]\n",
      " [  1   0   0   2 212   0   0   4   0   0   0   0   0   0   0   0   0]\n",
      " [  1   0   0   1   0  77   0   3   0   0   0   0   0   0   0   0   0]\n",
      " [  0   0   0   0   0   0  83   4   0   0   0   0   0   0   0   0   0]\n",
      " [  0   0   0   0   0   0   0  12   0   0   0   0   0   0   0   0   0]\n",
      " [  2   0   0   0   0   0   0   4 126   0   0   2   0   1   0   0   0]\n",
      " [  5   0   0   0   0   0   0   0   0  72   0   0   0   0   0   0   0]\n",
      " [  1   0   0   0   0   0   0   0   0   0 118   0   0   0   0   0   0]\n",
      " [  1   0   0   0   0   0   0   0   1   0   0 137   0   9   0   0   0]\n",
      " [  1   0   0   1   0   0   0   6   0   0   0   0 117   0   0   0   0]\n",
      " [  0   0   0   2   0   0   0   6   0   0   0   4   0 132   0   0   0]\n",
      " [  2   2   0   2   0   0   0   1   1   0   0   0   0   0 128   0   0]\n",
      " [  2   0   0   0   0   0   0   0   0   0   0   0   0   0   0  86   0]\n",
      " [  0   0   0   0   0   0   0  11   0   0   0   0   0   0   0   0  89]] \n",
      "                precision    recall  f1-score   support\n",
      "\n",
      "           0       0.78      0.91      0.84       105\n",
      "           1       0.95      0.83      0.89        89\n",
      "           2       1.00      0.93      0.97       120\n",
      "           3       0.96      0.94      0.95       282\n",
      "           4       1.00      0.97      0.98       219\n",
      "           5       0.97      0.94      0.96        82\n",
      "           6       1.00      0.95      0.98        87\n",
      "           7       0.16      1.00      0.28        12\n",
      "           8       0.98      0.93      0.95       135\n",
      "           9       1.00      0.94      0.97        77\n",
      "          10       1.00      0.99      1.00       119\n",
      "          11       0.94      0.93      0.93       148\n",
      "          12       1.00      0.94      0.97       125\n",
      "          13       0.91      0.92      0.91       144\n",
      "          14       0.98      0.94      0.96       136\n",
      "          15       1.00      0.98      0.99        88\n",
      "          16       1.00      0.89      0.94       100\n",
      "\n",
      "    accuracy                           0.94      2068\n",
      "   macro avg       0.92      0.94      0.91      2068\n",
      "weighted avg       0.96      0.94      0.95      2068\n",
      "\n"
     ]
    }
   ],
   "source": [
    "from sklearn.metrics import confusion_matrix,accuracy_score,classification_report\n",
    "cm = confusion_matrix(y_test, y_pred)\n",
    "ac = accuracy_score(y_test, y_pred)\n",
    "cr = classification_report(y_test, y_pred)\n",
    "print(\"accuarcy is : \",ac)\n",
    "print(cm,\"\\n \",cr)\n"
   ]
  },
  {
   "cell_type": "code",
   "execution_count": 29,
   "id": "aea983a8",
   "metadata": {},
   "outputs": [
    {
     "data": {
      "image/png": "[encoded data removed]",
      "text/plain": [
       "<Figure size 1000x1000 with 2 Axes>"
      ]
     },
     "metadata": {},
     "output_type": "display_data"
    }
   ],
   "source": [
    "plt.figure(figsize=(10,10))\n",
    "se.heatmap(cm, annot = True,fmt='d', cmap='viridis') #fmt -> floor number to it's integer form (3.5 -> 3)\n",
    "plt.show()"
   ]
  },
  {
   "cell_type": "markdown",
   "id": "1b45f413",
   "metadata": {},
   "source": [
    "# Prediction vs Actual"
   ]
  },
  {
   "cell_type": "code",
   "execution_count": 30,
   "id": "355bf79e",
   "metadata": {},
   "outputs": [
    {
     "data": {
      "text/html": [
       "<div>\n",
       "<style scoped>\n",
       "    .dataframe tbody tr th:only-of-type {\n",
       "        vertical-align: middle;\n",
       "    }\n",
       "\n",
       "    .dataframe tbody tr th {\n",
       "        vertical-align: top;\n",
       "    }\n",
       "\n",
       "    .dataframe thead th {\n",
       "        text-align: right;\n",
       "    }\n",
       "</style>\n",
       "<table border=\"1\" class=\"dataframe\">\n",
       "  <thead>\n",
       "    <tr style=\"text-align: right;\">\n",
       "      <th></th>\n",
       "      <th>actual</th>\n",
       "      <th>prediction</th>\n",
       "    </tr>\n",
       "  </thead>\n",
       "  <tbody>\n",
       "    <tr>\n",
       "      <th>0</th>\n",
       "      <td>11</td>\n",
       "      <td>11</td>\n",
       "    </tr>\n",
       "    <tr>\n",
       "      <th>1</th>\n",
       "      <td>11</td>\n",
       "      <td>11</td>\n",
       "    </tr>\n",
       "    <tr>\n",
       "      <th>2</th>\n",
       "      <td>4</td>\n",
       "      <td>4</td>\n",
       "    </tr>\n",
       "    <tr>\n",
       "      <th>3</th>\n",
       "      <td>3</td>\n",
       "      <td>3</td>\n",
       "    </tr>\n",
       "    <tr>\n",
       "      <th>4</th>\n",
       "      <td>6</td>\n",
       "      <td>6</td>\n",
       "    </tr>\n",
       "    <tr>\n",
       "      <th>5</th>\n",
       "      <td>6</td>\n",
       "      <td>6</td>\n",
       "    </tr>\n",
       "    <tr>\n",
       "      <th>6</th>\n",
       "      <td>16</td>\n",
       "      <td>16</td>\n",
       "    </tr>\n",
       "    <tr>\n",
       "      <th>7</th>\n",
       "      <td>3</td>\n",
       "      <td>3</td>\n",
       "    </tr>\n",
       "    <tr>\n",
       "      <th>8</th>\n",
       "      <td>10</td>\n",
       "      <td>10</td>\n",
       "    </tr>\n",
       "    <tr>\n",
       "      <th>9</th>\n",
       "      <td>6</td>\n",
       "      <td>6</td>\n",
       "    </tr>\n",
       "    <tr>\n",
       "      <th>10</th>\n",
       "      <td>14</td>\n",
       "      <td>14</td>\n",
       "    </tr>\n",
       "    <tr>\n",
       "      <th>11</th>\n",
       "      <td>13</td>\n",
       "      <td>13</td>\n",
       "    </tr>\n",
       "    <tr>\n",
       "      <th>12</th>\n",
       "      <td>2</td>\n",
       "      <td>2</td>\n",
       "    </tr>\n",
       "    <tr>\n",
       "      <th>13</th>\n",
       "      <td>4</td>\n",
       "      <td>4</td>\n",
       "    </tr>\n",
       "    <tr>\n",
       "      <th>14</th>\n",
       "      <td>2</td>\n",
       "      <td>2</td>\n",
       "    </tr>\n",
       "    <tr>\n",
       "      <th>15</th>\n",
       "      <td>12</td>\n",
       "      <td>12</td>\n",
       "    </tr>\n",
       "    <tr>\n",
       "      <th>16</th>\n",
       "      <td>0</td>\n",
       "      <td>0</td>\n",
       "    </tr>\n",
       "    <tr>\n",
       "      <th>17</th>\n",
       "      <td>4</td>\n",
       "      <td>4</td>\n",
       "    </tr>\n",
       "    <tr>\n",
       "      <th>18</th>\n",
       "      <td>15</td>\n",
       "      <td>15</td>\n",
       "    </tr>\n",
       "    <tr>\n",
       "      <th>19</th>\n",
       "      <td>4</td>\n",
       "      <td>4</td>\n",
       "    </tr>\n",
       "    <tr>\n",
       "      <th>20</th>\n",
       "      <td>3</td>\n",
       "      <td>3</td>\n",
       "    </tr>\n",
       "    <tr>\n",
       "      <th>21</th>\n",
       "      <td>14</td>\n",
       "      <td>14</td>\n",
       "    </tr>\n",
       "    <tr>\n",
       "      <th>22</th>\n",
       "      <td>8</td>\n",
       "      <td>8</td>\n",
       "    </tr>\n",
       "    <tr>\n",
       "      <th>23</th>\n",
       "      <td>2</td>\n",
       "      <td>2</td>\n",
       "    </tr>\n",
       "    <tr>\n",
       "      <th>24</th>\n",
       "      <td>3</td>\n",
       "      <td>3</td>\n",
       "    </tr>\n",
       "  </tbody>\n",
       "</table>\n",
       "</div>"
      ],
      "text/plain": [
       "    actual  prediction\n",
       "0       11          11\n",
       "1       11          11\n",
       "2        4           4\n",
       "3        3           3\n",
       "4        6           6\n",
       "5        6           6\n",
       "6       16          16\n",
       "7        3           3\n",
       "8       10          10\n",
       "9        6           6\n",
       "10      14          14\n",
       "11      13          13\n",
       "12       2           2\n",
       "13       4           4\n",
       "14       2           2\n",
       "15      12          12\n",
       "16       0           0\n",
       "17       4           4\n",
       "18      15          15\n",
       "19       4           4\n",
       "20       3           3\n",
       "21      14          14\n",
       "22       8           8\n",
       "23       2           2\n",
       "24       3           3"
      ]
     },
     "execution_count": 30,
     "metadata": {},
     "output_type": "execute_result"
    }
   ],
   "source": [
    "conf_df = pd.DataFrame(np.c_[y_test , y_pred] , columns=['actual' , 'prediction'])\n",
    "conf_df.head(25)"
   ]
  },
  {
   "cell_type": "code",
   "execution_count": 31,
   "id": "dc3926b3",
   "metadata": {},
   "outputs": [],
   "source": [
    "def predict(text):\n",
    "    z = cv.transform([text])\n",
    "    z_dense = z.toarray()  # Convert sparse matrix to dense array\n",
    "    lang = classifier.predict(z_dense)\n",
    "    lang = label.inverse_transform(lang)\n",
    "    print(\"the language is:\", lang[0])"
   ]
  },
  {
   "cell_type": "code",
   "execution_count": 32,
   "id": "e89a74b0",
   "metadata": {},
   "outputs": [
    {
     "name": "stdout",
     "output_type": "stream",
     "text": [
      "the language is: Arabic\n"
     ]
    }
   ],
   "source": [
    "predict(\"احمد يذهب الي المدرسة يوميا \")"
   ]
  },
  {
   "cell_type": "code",
   "execution_count": 33,
   "id": "bf337276",
   "metadata": {},
   "outputs": [
    {
     "name": "stdout",
     "output_type": "stream",
     "text": [
      "the language is: English\n"
     ]
    }
   ],
   "source": [
    "predict(\"he goes to school every day \")"
   ]
  },
  {
   "cell_type": "code",
   "execution_count": 34,
   "id": "44bf0739",
   "metadata": {},
   "outputs": [
    {
     "name": "stdout",
     "output_type": "stream",
     "text": [
      "the language is: Kannada\n"
     ]
    }
   ],
   "source": [
    "predict(\"ಅವನು ಪ್ರತಿ ವಾರ ಶಾಲೆಗೆ ಹೋಗುತ್ತಾನೆ \")"
   ]
  },
  {
   "cell_type": "code",
   "execution_count": 35,
   "id": "72276f1b",
   "metadata": {},
   "outputs": [
    {
     "name": "stdout",
     "output_type": "stream",
     "text": [
      "the language is: Hindi\n"
     ]
    }
   ],
   "source": [
    "predict(\"वह हर सप्ताह स्कूल जाता है \")"
   ]
  },
  {
   "cell_type": "code",
   "execution_count": 36,
   "id": "b36d7505",
   "metadata": {},
   "outputs": [
    {
     "name": "stdout",
     "output_type": "stream",
     "text": [
      "the language is: Italian\n"
     ]
    }
   ],
   "source": [
    "predict(\"il va à l'école chaque semaine\")"
   ]
  },
  {
   "cell_type": "code",
   "execution_count": 37,
   "id": "94c9d4a6",
   "metadata": {},
   "outputs": [
    {
     "name": "stdout",
     "output_type": "stream",
     "text": [
      "the language is: Sweedish\n"
     ]
    }
   ],
   "source": [
    "predict(\"han går till skolan varje vecka\")"
   ]
  },
  {
   "cell_type": "code",
   "execution_count": 38,
   "id": "a44ec2c8",
   "metadata": {},
   "outputs": [
    {
     "name": "stdout",
     "output_type": "stream",
     "text": [
      "the language is: Portugeese\n"
     ]
    }
   ],
   "source": [
    "predict(\"ele vai para a escola toda semana\")"
   ]
  },
  {
   "cell_type": "code",
   "execution_count": 39,
   "id": "5bf7dab0",
   "metadata": {},
   "outputs": [
    {
     "name": "stdout",
     "output_type": "stream",
     "text": [
      "the language is: Russian\n"
     ]
    }
   ],
   "source": [
    "predict(\"н ходит в школу каждую неделю\")"
   ]
  },
  {
   "cell_type": "code",
   "execution_count": 40,
   "id": "9e4718d6",
   "metadata": {},
   "outputs": [
    {
     "name": "stdout",
     "output_type": "stream",
     "text": [
      "the language is: Turkish\n"
     ]
    }
   ],
   "source": [
    "predict(\"o her hafta okula gider\")"
   ]
  },
  {
   "cell_type": "code",
   "execution_count": 41,
   "id": "9f153ec0",
   "metadata": {},
   "outputs": [
    {
     "name": "stdout",
     "output_type": "stream",
     "text": [
      "the language is: Malayalam\n"
     ]
    }
   ],
   "source": [
    "predict(\"അവൻ എല്ലാ ആഴ്ചയും സ്കൂളിൽ പോകുന്നു\")"
   ]
  },
  {
   "cell_type": "code",
   "execution_count": 42,
   "id": "32179c63",
   "metadata": {},
   "outputs": [
    {
     "name": "stdout",
     "output_type": "stream",
     "text": [
      "the language is: Italian\n"
     ]
    }
   ],
   "source": [
    "predict(\"va a scuola ogni settimana\")"
   ]
  },
  {
   "cell_type": "code",
   "execution_count": 43,
   "id": "8820162a",
   "metadata": {},
   "outputs": [
    {
     "name": "stdout",
     "output_type": "stream",
     "text": [
      "the language is: Dutch\n"
     ]
    }
   ],
   "source": [
    "predict(\"De beste manier om dit te doen\")"
   ]
  },
  {
   "cell_type": "code",
   "execution_count": 44,
   "id": "9952bdf7",
   "metadata": {},
   "outputs": [
    {
     "name": "stdout",
     "output_type": "stream",
     "text": [
      "the language is: Danish\n"
     ]
    }
   ],
   "source": [
    "predict(\"Han går i skole hver uge klokken syv om morgenen og spiser kartofler\")"
   ]
  },
  {
   "cell_type": "code",
   "execution_count": 45,
   "id": "3074e0c7",
   "metadata": {},
   "outputs": [
    {
     "name": "stdout",
     "output_type": "stream",
     "text": [
      "the language is: German\n"
     ]
    }
   ],
   "source": [
    "predict(\"Er geht jede Woche zur Schule\")"
   ]
  },
  {
   "cell_type": "code",
   "execution_count": 46,
   "id": "bc351607",
   "metadata": {},
   "outputs": [
    {
     "name": "stdout",
     "output_type": "stream",
     "text": [
      "the language is: Tamil\n"
     ]
    }
   ],
   "source": [
    "predict(\"வாரந்தோறும் பள்ளிக்கு செல்வார்\")"
   ]
  },
  {
   "cell_type": "code",
   "execution_count": 47,
   "id": "7c35ba28",
   "metadata": {},
   "outputs": [
    {
     "name": "stdout",
     "output_type": "stream",
     "text": [
      "the language is: Arabic\n"
     ]
    }
   ],
   "source": [
    "predict(\"  السلام عليكم\")"
   ]
  },
  {
   "cell_type": "code",
   "execution_count": 48,
   "id": "a9c4d8e5",
   "metadata": {},
   "outputs": [
    {
     "name": "stdout",
     "output_type": "stream",
     "text": [
      "the language is: Arabic\n"
     ]
    }
   ],
   "source": [
    "predict(\"مرحبا\")"
   ]
  },
  {
   "cell_type": "code",
   "execution_count": 49,
   "id": "0f83ab6f",
   "metadata": {},
   "outputs": [
    {
     "name": "stdout",
     "output_type": "stream",
     "text": [
      "the language is: Arabic\n"
     ]
    }
   ],
   "source": [
    "predict(\"الله اكبر كبيرا\")"
   ]
  },
  {
   "cell_type": "code",
   "execution_count": 50,
   "id": "fbdfc503",
   "metadata": {},
   "outputs": [
    {
     "name": "stdout",
     "output_type": "stream",
     "text": [
      "the language is: German\n"
     ]
    }
   ],
   "source": [
    "predict(\"Entchuldigung wie bitte frau\")"
   ]
  },
  {
   "cell_type": "code",
   "execution_count": 53,
   "id": "e3c179e3",
   "metadata": {},
   "outputs": [
    {
     "data": {
      "text/plain": [
       "['D:\\\\NLP project\\\\pp.joblib']"
      ]
     },
     "execution_count": 53,
     "metadata": {},
     "output_type": "execute_result"
    }
   ],
   "source": [
    "from joblib import dump\n",
    "\n",
    "# Assuming your model is named 'model'\n",
    "dump(classifier, 'D:\\\\NLP project\\\\pp.joblib')\n"
   ]
  }
 ],
 "metadata": {
  "kernelspec": {
   "display_name": "Python 3 (ipykernel)",
   "language": "python",
   "name": "python3"
  },
  "language_info": {
   "codemirror_mode": {
    "name": "ipython",
    "version": 3
   },
   "file_extension": ".py",
   "mimetype": "text/x-python",
   "name": "python",
   "nbconvert_exporter": "python",
   "pygments_lexer": "ipython3",
   "version": "3.11.4"
  }
 },
 "nbformat": 4,
 "nbformat_minor": 5
}
